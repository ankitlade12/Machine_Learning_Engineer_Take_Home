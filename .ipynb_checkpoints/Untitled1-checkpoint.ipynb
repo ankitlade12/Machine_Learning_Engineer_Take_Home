{
 "cells": [
  {
   "cell_type": "code",
   "execution_count": 1,
   "id": "2284afdc",
   "metadata": {},
   "outputs": [],
   "source": [
    "import pandas as pd\n",
    "import numpy as np\n",
    "from sklearn.preprocessing import MinMaxScaler\n",
    "\n",
    "# Load and preprocess your 2021 data\n",
    "data_2021 = pd.read_csv('data_daily.csv')  # Replace '2021_receipts_data.csv' with your data file.\n",
    "data_2021['# Date'] = pd.to_datetime(data_2021['# Date'])\n",
    "data_2021.set_index('# Date', inplace=True)\n",
    "\n",
    "# Resample the data on a monthly basis\n",
    "monthly_data_2021 = data_2021['Receipt_Count'].resample('M').sum()\n",
    "\n",
    "# Normalize the data\n",
    "scaler = MinMaxScaler()\n",
    "normalized_data_2021 = scaler.fit_transform(monthly_data_2021.values.reshape(-1, 1))"
   ]
  },
  {
   "cell_type": "code",
   "execution_count": 2,
   "id": "43f25a86",
   "metadata": {},
   "outputs": [],
   "source": [
    "def create_sequences(data, seq_length):\n",
    "    X, y = [], []\n",
    "    for i in range(len(data) - seq_length):\n",
    "        X.append(data[i:i+seq_length])\n",
    "        y.append(data[i+seq_length])\n",
    "    return np.array(X), np.array(y)\n",
    "\n",
    "seq_length = 1  # For simplicity, let's use a sequence length of 12 (one year of data).\n",
    "X_train, y_train = create_sequences(normalized_data_2021, seq_length)"
   ]
  },
  {
   "cell_type": "code",
   "execution_count": 3,
   "id": "145e5892",
   "metadata": {},
   "outputs": [],
   "source": [
    "from tensorflow.keras.models import Sequential\n",
    "from tensorflow.keras.layers import LSTM, Dense\n",
    "\n",
    "model = Sequential()\n",
    "model.add(LSTM(units=50, activation='relu', input_shape=(seq_length, 1)))\n",
    "model.add(Dense(1))\n",
    "model.compile(optimizer='adam', loss='mean_squared_error')"
   ]
  },
  {
   "cell_type": "code",
   "execution_count": 4,
   "id": "9fa158e1",
   "metadata": {},
   "outputs": [
    {
     "name": "stdout",
     "output_type": "stream",
     "text": [
      "Epoch 1/50\n",
      "1/1 [==============================] - 3s 3s/step - loss: 0.4092\n",
      "Epoch 2/50\n",
      "1/1 [==============================] - 0s 14ms/step - loss: 0.4054\n",
      "Epoch 3/50\n",
      "1/1 [==============================] - 0s 4ms/step - loss: 0.4017\n",
      "Epoch 4/50\n",
      "1/1 [==============================] - 0s 8ms/step - loss: 0.3980\n",
      "Epoch 5/50\n",
      "1/1 [==============================] - 0s 6ms/step - loss: 0.3944\n",
      "Epoch 6/50\n",
      "1/1 [==============================] - 0s 13ms/step - loss: 0.3908\n",
      "Epoch 7/50\n",
      "1/1 [==============================] - 0s 15ms/step - loss: 0.3872\n",
      "Epoch 8/50\n",
      "1/1 [==============================] - 0s 0s/step - loss: 0.3837\n",
      "Epoch 9/50\n",
      "1/1 [==============================] - 0s 8ms/step - loss: 0.3801\n",
      "Epoch 10/50\n",
      "1/1 [==============================] - 0s 12ms/step - loss: 0.3766\n",
      "Epoch 11/50\n",
      "1/1 [==============================] - 0s 8ms/step - loss: 0.3731\n",
      "Epoch 12/50\n",
      "1/1 [==============================] - 0s 17ms/step - loss: 0.3696\n",
      "Epoch 13/50\n",
      "1/1 [==============================] - 0s 6ms/step - loss: 0.3661\n",
      "Epoch 14/50\n",
      "1/1 [==============================] - 0s 5ms/step - loss: 0.3627\n",
      "Epoch 15/50\n",
      "1/1 [==============================] - 0s 12ms/step - loss: 0.3593\n",
      "Epoch 16/50\n",
      "1/1 [==============================] - 0s 11ms/step - loss: 0.3559\n",
      "Epoch 17/50\n",
      "1/1 [==============================] - 0s 11ms/step - loss: 0.3525\n",
      "Epoch 18/50\n",
      "1/1 [==============================] - 0s 8ms/step - loss: 0.3492\n",
      "Epoch 19/50\n",
      "1/1 [==============================] - 0s 12ms/step - loss: 0.3459\n",
      "Epoch 20/50\n",
      "1/1 [==============================] - 0s 13ms/step - loss: 0.3426\n",
      "Epoch 21/50\n",
      "1/1 [==============================] - 0s 12ms/step - loss: 0.3394\n",
      "Epoch 22/50\n",
      "1/1 [==============================] - 0s 8ms/step - loss: 0.3362\n",
      "Epoch 23/50\n",
      "1/1 [==============================] - 0s 14ms/step - loss: 0.3330\n",
      "Epoch 24/50\n",
      "1/1 [==============================] - 0s 12ms/step - loss: 0.3299\n",
      "Epoch 25/50\n",
      "1/1 [==============================] - 0s 16ms/step - loss: 0.3268\n",
      "Epoch 26/50\n",
      "1/1 [==============================] - 0s 9ms/step - loss: 0.3237\n",
      "Epoch 27/50\n",
      "1/1 [==============================] - 0s 8ms/step - loss: 0.3206\n",
      "Epoch 28/50\n",
      "1/1 [==============================] - 0s 12ms/step - loss: 0.3175\n",
      "Epoch 29/50\n",
      "1/1 [==============================] - 0s 7ms/step - loss: 0.3144\n",
      "Epoch 30/50\n",
      "1/1 [==============================] - 0s 7ms/step - loss: 0.3113\n",
      "Epoch 31/50\n",
      "1/1 [==============================] - 0s 16ms/step - loss: 0.3082\n",
      "Epoch 32/50\n",
      "1/1 [==============================] - 0s 8ms/step - loss: 0.3052\n",
      "Epoch 33/50\n",
      "1/1 [==============================] - 0s 15ms/step - loss: 0.3021\n",
      "Epoch 34/50\n",
      "1/1 [==============================] - 0s 11ms/step - loss: 0.2990\n",
      "Epoch 35/50\n",
      "1/1 [==============================] - 0s 16ms/step - loss: 0.2959\n",
      "Epoch 36/50\n",
      "1/1 [==============================] - 0s 9ms/step - loss: 0.2929\n",
      "Epoch 37/50\n",
      "1/1 [==============================] - 0s 8ms/step - loss: 0.2898\n",
      "Epoch 38/50\n",
      "1/1 [==============================] - 0s 10ms/step - loss: 0.2868\n",
      "Epoch 39/50\n",
      "1/1 [==============================] - 0s 6ms/step - loss: 0.2837\n",
      "Epoch 40/50\n",
      "1/1 [==============================] - 0s 12ms/step - loss: 0.2807\n",
      "Epoch 41/50\n",
      "1/1 [==============================] - 0s 7ms/step - loss: 0.2777\n",
      "Epoch 42/50\n",
      "1/1 [==============================] - 0s 7ms/step - loss: 0.2746\n",
      "Epoch 43/50\n",
      "1/1 [==============================] - 0s 11ms/step - loss: 0.2716\n",
      "Epoch 44/50\n",
      "1/1 [==============================] - 0s 11ms/step - loss: 0.2686\n",
      "Epoch 45/50\n",
      "1/1 [==============================] - 0s 4ms/step - loss: 0.2656\n",
      "Epoch 46/50\n",
      "1/1 [==============================] - 0s 12ms/step - loss: 0.2625\n",
      "Epoch 47/50\n",
      "1/1 [==============================] - 0s 9ms/step - loss: 0.2595\n",
      "Epoch 48/50\n",
      "1/1 [==============================] - 0s 8ms/step - loss: 0.2565\n",
      "Epoch 49/50\n",
      "1/1 [==============================] - 0s 7ms/step - loss: 0.2535\n",
      "Epoch 50/50\n",
      "1/1 [==============================] - 0s 13ms/step - loss: 0.2505\n"
     ]
    },
    {
     "data": {
      "text/plain": [
       "<keras.src.callbacks.History at 0x1a940e8a690>"
      ]
     },
     "execution_count": 4,
     "metadata": {},
     "output_type": "execute_result"
    }
   ],
   "source": [
    "model.fit(X_train, y_train, epochs=50, batch_size=32)"
   ]
  },
  {
   "cell_type": "code",
   "execution_count": 5,
   "id": "0c361d8b",
   "metadata": {},
   "outputs": [
    {
     "name": "stdout",
     "output_type": "stream",
     "text": [
      "1/1 [==============================] - 0s 367ms/step\n",
      "1/1 [==============================] - 0s 45ms/step\n",
      "1/1 [==============================] - 0s 39ms/step\n",
      "1/1 [==============================] - 0s 47ms/step\n",
      "1/1 [==============================] - 0s 44ms/step\n",
      "1/1 [==============================] - 0s 33ms/step\n",
      "1/1 [==============================] - 0s 44ms/step\n",
      "1/1 [==============================] - 0s 32ms/step\n",
      "1/1 [==============================] - 0s 50ms/step\n",
      "1/1 [==============================] - 0s 41ms/step\n",
      "1/1 [==============================] - 0s 42ms/step\n",
      "1/1 [==============================] - 0s 40ms/step\n"
     ]
    }
   ],
   "source": [
    "# Initialize a list to store the simulated 2022 data\n",
    "simulated_data_2022 = list(normalized_data_2021[-seq_length:])\n",
    "\n",
    "# Create a function to generate monthly predictions\n",
    "def generate_monthly_predictions(model, current_seq):\n",
    "    # Predict the next month\n",
    "    predicted_value = model.predict(current_seq)\n",
    "    return predicted_value[0][0]\n",
    "\n",
    "# Loop over each month in 2022\n",
    "for _ in range(12):\n",
    "    # Create the current sequence for prediction\n",
    "    current_seq = np.array([simulated_data_2022[-seq_length:]]).reshape(1, seq_length, 1)\n",
    "    \n",
    "    # Generate the prediction for the month\n",
    "    predicted_value = generate_monthly_predictions(model, current_seq)\n",
    "    \n",
    "    # Append the predicted value to the simulated data\n",
    "    simulated_data_2022.append([predicted_value])\n",
    "\n",
    "# Inverse transform the simulated data to the original scale\n",
    "simulated_data_2022 = scaler.inverse_transform(np.array(simulated_data_2022).reshape(-1, 1))"
   ]
  },
  {
   "cell_type": "code",
   "execution_count": 6,
   "id": "f1fbb023",
   "metadata": {},
   "outputs": [
    {
     "name": "stderr",
     "output_type": "stream",
     "text": [
      "C:\\Users\\Ankit Hemant Lade\\miniconda3\\Lib\\site-packages\\keras\\src\\engine\\training.py:3079: UserWarning: You are saving your model as an HDF5 file via `model.save()`. This file format is considered legacy. We recommend using instead the native Keras format, e.g. `model.save('my_model.keras')`.\n",
      "  saving_api.save_model(\n"
     ]
    }
   ],
   "source": [
    "model.save(\"final_model.h5\") "
   ]
  },
  {
   "cell_type": "code",
   "execution_count": null,
   "id": "4566ffc1",
   "metadata": {},
   "outputs": [],
   "source": []
  }
 ],
 "metadata": {
  "kernelspec": {
   "display_name": "Python 3 (ipykernel)",
   "language": "python",
   "name": "python3"
  },
  "language_info": {
   "codemirror_mode": {
    "name": "ipython",
    "version": 3
   },
   "file_extension": ".py",
   "mimetype": "text/x-python",
   "name": "python",
   "nbconvert_exporter": "python",
   "pygments_lexer": "ipython3",
   "version": "3.11.4"
  }
 },
 "nbformat": 4,
 "nbformat_minor": 5
}
